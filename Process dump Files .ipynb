{
 "cells": [
  {
   "cell_type": "code",
   "execution_count": 157,
   "metadata": {},
   "outputs": [],
   "source": [
    "import pandas as pd \n",
    "import random\n",
    "import re\n",
    "import os"
   ]
  },
  {
   "cell_type": "code",
   "execution_count": 158,
   "metadata": {},
   "outputs": [],
   "source": [
    "mypath=\"/Users/ay227/Desktop/Casm/Desktop/casm/\""
   ]
  },
  {
   "cell_type": "code",
   "execution_count": 221,
   "metadata": {},
   "outputs": [],
   "source": [
    "def cleanhtml(raw_html):\n",
    "#   cleanr = re.compile('<.*?>|&([a-z0-9]+|#[0-9]{1,6}|#x[0-9a-f]{1,6});')\n",
    "#     cleanr = re.compile(r'\\W+')\n",
    "    cleantext = data = re.sub(r'[0-9\\(\\)/]+', '', raw_html)\n",
    "    output = re.sub(r'\\s*[A-Za-z]+\\b', '' , cleantext)\n",
    "#     alphanumeric_filter = filter(str.isalnum, output)\n",
    "#     alphanumeric_string = \"\".join(alphanumeric_filter)\n",
    "    return output"
   ]
  },
  {
   "cell_type": "code",
   "execution_count": 217,
   "metadata": {},
   "outputs": [],
   "source": [
    "dirs = [x[0] for x in os.walk(mypath)][1:]"
   ]
  },
  {
   "cell_type": "code",
   "execution_count": 218,
   "metadata": {},
   "outputs": [],
   "source": [
    "from os import listdir\n",
    "from os.path import isfile, join\n",
    "onlyfiles = []\n",
    "for d in dirs:\n",
    "    fs =[f for f in listdir(d) if isfile(join(d, f))]\n",
    "    onlyfiles.append(fs)\n"
   ]
  },
  {
   "cell_type": "code",
   "execution_count": 332,
   "metadata": {},
   "outputs": [],
   "source": [
    "\n",
    "for art in data.split('title'):\n",
    "    arts.append(cleanhtml(art))"
   ]
  },
  {
   "cell_type": "code",
   "execution_count": 341,
   "metadata": {},
   "outputs": [],
   "source": [
    "articles=[]\n",
    "dfs = []\n",
    "for i in range(5):\n",
    "    file = open(dirs[i]+'/'+random.choice(onlyfiles[i]))\n",
    "    data = file.read()\n",
    "    article = data.split('title')\n",
    "    for a in article:\n",
    "        articles.append(cleanhtml(a))\n",
    "    df = pd.DataFrame(articles)\n",
    "\n",
    "    dfs.append(df)"
   ]
  },
  {
   "cell_type": "code",
   "execution_count": 342,
   "metadata": {},
   "outputs": [],
   "source": [
    "final = pd.concat(dfs)"
   ]
  },
  {
   "cell_type": "code",
   "execution_count": 343,
   "metadata": {},
   "outputs": [
    {
     "data": {
      "text/html": [
       "<div>\n",
       "<style scoped>\n",
       "    .dataframe tbody tr th:only-of-type {\n",
       "        vertical-align: middle;\n",
       "    }\n",
       "\n",
       "    .dataframe tbody tr th {\n",
       "        vertical-align: top;\n",
       "    }\n",
       "\n",
       "    .dataframe thead th {\n",
       "        text-align: right;\n",
       "    }\n",
       "</style>\n",
       "<table border=\"1\" class=\"dataframe\">\n",
       "  <thead>\n",
       "    <tr style=\"text-align: right;\">\n",
       "      <th></th>\n",
       "      <th>0</th>\n",
       "    </tr>\n",
       "  </thead>\n",
       "  <tbody>\n",
       "    <tr>\n",
       "      <th>0</th>\n",
       "      <td>&lt;=\"\"=\":..?=\"</td>\n",
       "    </tr>\n",
       "    <tr>\n",
       "      <th>1</th>\n",
       "      <td>=\"مساندة\"&gt;\\nمساندة\\n\\nالمساندة هي عملية دعم مؤ...</td>\n",
       "    </tr>\n",
       "    <tr>\n",
       "      <th>2</th>\n",
       "      <td>=\"منظمة المراحيض العالمية\"&gt;\\nمنظمة المراحيض ال...</td>\n",
       "    </tr>\n",
       "    <tr>\n",
       "      <th>3</th>\n",
       "      <td>=\"جائزة بيسوا\"&gt;\\nجائزة بيسوا\\n\\nجائزة بيسوا  ،...</td>\n",
       "    </tr>\n",
       "    <tr>\n",
       "      <th>4</th>\n",
       "      <td>=\"نيكولاي تيموفيف ريسوفسكي\"&gt;\\nنيكولاي تيموفيف ...</td>\n",
       "    </tr>\n",
       "    <tr>\n",
       "      <th>...</th>\n",
       "      <td>...</td>\n",
       "    </tr>\n",
       "    <tr>\n",
       "      <th>4777</th>\n",
       "      <td>=\"كلير مارتن\"&gt;\\nكلير مارتن\\n\\nكلير مارتن و.  –...</td>\n",
       "    </tr>\n",
       "    <tr>\n",
       "      <th>4778</th>\n",
       "      <td>=\"إدنا مولوا\"&gt;\\nإدنا مولوا\\n\\nإدنا مولوا و.  –...</td>\n",
       "    </tr>\n",
       "    <tr>\n",
       "      <th>4779</th>\n",
       "      <td>=\"مورين موديسلي\"&gt;\\nمورين موديسلي\\n\\nمورين مودي...</td>\n",
       "    </tr>\n",
       "    <tr>\n",
       "      <th>4780</th>\n",
       "      <td>=\"سيلفيا لوكاس\"&gt;\\nسيلفيا لوكاس\\n\\nسيلفيا لوكاس...</td>\n",
       "    </tr>\n",
       "    <tr>\n",
       "      <th>4781</th>\n",
       "      <td>=\"فخري كريم\"&gt;\\nفخري كريم\\n\\nفخري كريم احمد زنج...</td>\n",
       "    </tr>\n",
       "  </tbody>\n",
       "</table>\n",
       "<p>11012 rows × 1 columns</p>\n",
       "</div>"
      ],
      "text/plain": [
       "                                                      0\n",
       "0                                         <=\"\"=\":..?=\" \n",
       "1     =\"مساندة\">\\nمساندة\\n\\nالمساندة هي عملية دعم مؤ...\n",
       "2     =\"منظمة المراحيض العالمية\">\\nمنظمة المراحيض ال...\n",
       "3     =\"جائزة بيسوا\">\\nجائزة بيسوا\\n\\nجائزة بيسوا  ،...\n",
       "4     =\"نيكولاي تيموفيف ريسوفسكي\">\\nنيكولاي تيموفيف ...\n",
       "...                                                 ...\n",
       "4777  =\"كلير مارتن\">\\nكلير مارتن\\n\\nكلير مارتن و.  –...\n",
       "4778  =\"إدنا مولوا\">\\nإدنا مولوا\\n\\nإدنا مولوا و.  –...\n",
       "4779  =\"مورين موديسلي\">\\nمورين موديسلي\\n\\nمورين مودي...\n",
       "4780  =\"سيلفيا لوكاس\">\\nسيلفيا لوكاس\\n\\nسيلفيا لوكاس...\n",
       "4781  =\"فخري كريم\">\\nفخري كريم\\n\\nفخري كريم احمد زنج...\n",
       "\n",
       "[11012 rows x 1 columns]"
      ]
     },
     "execution_count": 343,
     "metadata": {},
     "output_type": "execute_result"
    }
   ],
   "source": [
    "final"
   ]
  },
  {
   "cell_type": "code",
   "execution_count": 344,
   "metadata": {},
   "outputs": [],
   "source": [
    "final.to_csv('ar-wiki-dump-10424-articles_.csv',header = False, index = False )"
   ]
  },
  {
   "cell_type": "code",
   "execution_count": 345,
   "metadata": {},
   "outputs": [],
   "source": [
    "X= pd.read_csv('ar-wiki-dump-10424-articles_.csv')"
   ]
  },
  {
   "cell_type": "code",
   "execution_count": 346,
   "metadata": {},
   "outputs": [],
   "source": [
    "df = X.replace('\\n','', regex=True)"
   ]
  },
  {
   "cell_type": "code",
   "execution_count": 347,
   "metadata": {},
   "outputs": [],
   "source": [
    "df = df[df.columns[0]].str.replace('[^\\w\\s]','')"
   ]
  },
  {
   "cell_type": "code",
   "execution_count": 348,
   "metadata": {},
   "outputs": [],
   "source": [
    "df.to_csv('ar_wiki_dump_10424_articles_clean_.csv',header = False, index = False )"
   ]
  },
  {
   "cell_type": "code",
   "execution_count": 354,
   "metadata": {},
   "outputs": [],
   "source": [
    "X= pd.read_csv('ar_wiki_dump_10424_articles_clean.csv',header=0)"
   ]
  },
  {
   "cell_type": "code",
   "execution_count": 358,
   "metadata": {},
   "outputs": [],
   "source": [
    "X.iloc[:10001].to_csv('ar_wiki_dump_10000_articles_clean.csv')"
   ]
  },
  {
   "cell_type": "code",
   "execution_count": 70,
   "metadata": {},
   "outputs": [],
   "source": [
    "Files = []\n",
    "for rid  in rand_dir:\n",
    "    fs =[f for f in listdir(rid) if isfile(join(d, f))]\n",
    "    for i in range(5):\n",
    "            Files.append(open(rid+'/'+random.choice(fs)))\n",
    "    "
   ]
  },
  {
   "cell_type": "code",
   "execution_count": 71,
   "metadata": {},
   "outputs": [],
   "source": [
    "Dump = []\n",
    "for f in Files:\n",
    "    Dump.append(f.read())\n",
    "    "
   ]
  },
  {
   "cell_type": "code",
   "execution_count": 72,
   "metadata": {},
   "outputs": [],
   "source": [
    "lst = []\n",
    "for d in Dump:\n",
    "    lst.append([s for s in cleanhtml(d).split('        ') if s != '' and s != '\\n'])"
   ]
  },
  {
   "cell_type": "code",
   "execution_count": 73,
   "metadata": {},
   "outputs": [],
   "source": [
    "df_lst = []\n",
    "for el in lst:\n",
    "    df_lst.append(pd.DataFrame(el))\n",
    "    "
   ]
  },
  {
   "cell_type": "code",
   "execution_count": 74,
   "metadata": {},
   "outputs": [],
   "source": [
    "Dump_data = pd.concat(df_lst)"
   ]
  },
  {
   "cell_type": "code",
   "execution_count": 75,
   "metadata": {},
   "outputs": [
    {
     "data": {
      "text/html": [
       "<div>\n",
       "<style scoped>\n",
       "    .dataframe tbody tr th:only-of-type {\n",
       "        vertical-align: middle;\n",
       "    }\n",
       "\n",
       "    .dataframe tbody tr th {\n",
       "        vertical-align: top;\n",
       "    }\n",
       "\n",
       "    .dataframe thead th {\n",
       "        text-align: right;\n",
       "    }\n",
       "</style>\n",
       "<table border=\"1\" class=\"dataframe\">\n",
       "  <thead>\n",
       "    <tr style=\"text-align: right;\">\n",
       "      <th></th>\n",
       "      <th>0</th>\n",
       "    </tr>\n",
       "  </thead>\n",
       "  <tbody>\n",
       "    <tr>\n",
       "      <th>0</th>\n",
       "      <td>\\nهذه هي الشرطة\\n\\nهذه هي الشرطة هي لعبة مغامر...</td>\n",
       "    </tr>\n",
       "    <tr>\n",
       "      <th>1</th>\n",
       "      <td>\\nالعربي الشرايبي\\n\\nكان العربي الشرايبي وزيرا...</td>\n",
       "    </tr>\n",
       "    <tr>\n",
       "      <th>2</th>\n",
       "      <td>\\nبعثة باراغواي\\n\\nبعثة باراغواي كانت بعثةً بح...</td>\n",
       "    </tr>\n",
       "    <tr>\n",
       "      <th>3</th>\n",
       "      <td>\\nجون كاني (ممثل)\\n\\nبونيسيل جون كاني هو ممثل ...</td>\n",
       "    </tr>\n",
       "    <tr>\n",
       "      <th>4</th>\n",
       "      <td>\\nالشرايبي (توضيح)\\n\\nالشرايبي هو اسم لأسرة مغ...</td>\n",
       "    </tr>\n",
       "    <tr>\n",
       "      <th>...</th>\n",
       "      <td>...</td>\n",
       "    </tr>\n",
       "    <tr>\n",
       "      <th>398</th>\n",
       "      <td>\\nبول دوميت\\n\\nبول دوميت وهو لاعب كرة قدم ويلز...</td>\n",
       "    </tr>\n",
       "    <tr>\n",
       "      <th>399</th>\n",
       "      <td>\\nمحمد نبيه شعار\\n\\nولد الاديب السوري (محمد نب...</td>\n",
       "    </tr>\n",
       "    <tr>\n",
       "      <th>400</th>\n",
       "      <td>\\nالفروض والمبادئ المحاسبية\\n\\nتعرف الفروض عمو...</td>\n",
       "    </tr>\n",
       "    <tr>\n",
       "      <th>401</th>\n",
       "      <td>\\nشيرين تكالى\\n\\nشيرين تكالى \\nمواليد عام 1944...</td>\n",
       "    </tr>\n",
       "    <tr>\n",
       "      <th>402</th>\n",
       "      <td>\\nموائل بحرية\\n\\nالبيئة البحرية توفر أنواع كثي...</td>\n",
       "    </tr>\n",
       "  </tbody>\n",
       "</table>\n",
       "<p>45615 rows × 1 columns</p>\n",
       "</div>"
      ],
      "text/plain": [
       "                                                     0\n",
       "0    \\nهذه هي الشرطة\\n\\nهذه هي الشرطة هي لعبة مغامر...\n",
       "1    \\nالعربي الشرايبي\\n\\nكان العربي الشرايبي وزيرا...\n",
       "2    \\nبعثة باراغواي\\n\\nبعثة باراغواي كانت بعثةً بح...\n",
       "3    \\nجون كاني (ممثل)\\n\\nبونيسيل جون كاني هو ممثل ...\n",
       "4    \\nالشرايبي (توضيح)\\n\\nالشرايبي هو اسم لأسرة مغ...\n",
       "..                                                 ...\n",
       "398  \\nبول دوميت\\n\\nبول دوميت وهو لاعب كرة قدم ويلز...\n",
       "399  \\nمحمد نبيه شعار\\n\\nولد الاديب السوري (محمد نب...\n",
       "400  \\nالفروض والمبادئ المحاسبية\\n\\nتعرف الفروض عمو...\n",
       "401  \\nشيرين تكالى\\n\\nشيرين تكالى \\nمواليد عام 1944...\n",
       "402  \\nموائل بحرية\\n\\nالبيئة البحرية توفر أنواع كثي...\n",
       "\n",
       "[45615 rows x 1 columns]"
      ]
     },
     "execution_count": 75,
     "metadata": {},
     "output_type": "execute_result"
    }
   ],
   "source": [
    "Dump_data"
   ]
  },
  {
   "cell_type": "code",
   "execution_count": 76,
   "metadata": {},
   "outputs": [],
   "source": [
    "Dump_data.to_csv('ar-wiki-dump-10424-articles.csv', header=False)\n"
   ]
  },
  {
   "cell_type": "code",
   "execution_count": null,
   "metadata": {},
   "outputs": [],
   "source": [
    "pd.DataFrame([s for s in cleanhtml(X).split('        ') if s != '']).iloc[0]"
   ]
  },
  {
   "cell_type": "code",
   "execution_count": null,
   "metadata": {},
   "outputs": [],
   "source": [
    "import re\n",
    "\n",
    "TAG_RE = re.compile(r'<[^>]+>')\n",
    "\n",
    "def remove_tags(text):\n",
    "    return TAG_RE.sub('', text)\n"
   ]
  },
  {
   "cell_type": "code",
   "execution_count": null,
   "metadata": {},
   "outputs": [],
   "source": [
    "remove_tags(X)"
   ]
  },
  {
   "cell_type": "code",
   "execution_count": null,
   "metadata": {},
   "outputs": [],
   "source": []
  }
 ],
 "metadata": {
  "kernelspec": {
   "display_name": "Python 3",
   "language": "python",
   "name": "python3"
  },
  "language_info": {
   "codemirror_mode": {
    "name": "ipython",
    "version": 3
   },
   "file_extension": ".py",
   "mimetype": "text/x-python",
   "name": "python",
   "nbconvert_exporter": "python",
   "pygments_lexer": "ipython3",
   "version": "3.7.6"
  }
 },
 "nbformat": 4,
 "nbformat_minor": 4
}
